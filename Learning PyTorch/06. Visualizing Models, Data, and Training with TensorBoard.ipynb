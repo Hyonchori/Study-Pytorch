{
 "cells": [
  {
   "cell_type": "markdown",
   "id": "cffef940",
   "metadata": {},
   "source": [
    "# VISUALIZING MODELS, DATA, AND TRAINING WITH TENSORBOARD\n",
    "- 앞서 데이터를 로드하고, ```nn.Module``` 을 상속한 모델에 통과시켜, 학습 데이터에 대해 학습을 진행하고, 테스트 데이터에 대해 테스트를 진행했음\n",
    "- 각 과정에서 무슨 일이 일어났는지 보기 위해서 임의로 print 했음\n",
    "- 파이토치는 **텐서보드** 와 병합하여 인공신경망의 학습 과정을 시각화할 수 있음\n",
    "- 여기선 **Fashion MNIST 데이터셋** dp eogks tlrkrghkfmf goqhrpTdma"
   ]
  },
  {
   "cell_type": "markdown",
   "id": "bd19546b",
   "metadata": {},
   "source": [
    ">**이 튜토리얼에서 배울 것**\n",
    ">1. 데이터를 적절한 변환으로 읽어오는 방법\n",
    ">2. TensorBoard 셋업\n",
    ">3. TensorBoard 작성\n",
    ">4. TensorBoard 를 이용한 모델 구조 점검\n",
    ">5. TensorBoard 로 상호작용할 수 있는 시각화 만들기\n",
    "\n",
    ">**특히 5에서 다룰 것**\n",
    ">- 학습 데이터를 점검하는 방법\n",
    ">- 학습이 진행함에 따른 모델의 성능 추적하기\n",
    ">- 모델이 학습되었을 때 모델 평가하기"
   ]
  },
  {
   "cell_type": "markdown",
   "id": "2efe1b7e",
   "metadata": {},
   "source": [
    "- 일단 CIFAR-10 데이터셋을 다뤘을 때와 비슷하게 데이터를 로드하는 코드 작성"
   ]
  },
  {
   "cell_type": "code",
   "execution_count": 21,
   "id": "e8016a0c",
   "metadata": {},
   "outputs": [],
   "source": [
    "import matplotlib.pyplot as plt\n",
    "import numpy as np\n",
    "\n",
    "import torch\n",
    "import torchvision\n",
    "import torchvision.transforms as transforms\n",
    "\n",
    "import torch.nn as nn\n",
    "import torch.nn.functional as F\n",
    "import torch.optim as optim\n",
    "\n",
    "transform = transforms.Compose(\n",
    "    [transforms.ToTensor(),\n",
    "    transforms.Normalize((0.5, ), (0.5))]\n",
    ")\n",
    "\n",
    "trainset = torchvision.datasets.FashionMNIST(\"./data\",\n",
    "                                            download=True,\n",
    "                                            train=True,\n",
    "                                            transform=transform)\n",
    "testset = torchvision.datasets.FashionMNIST(\"./data\",\n",
    "                                            download=True,\n",
    "                                            train=False,\n",
    "                                            transform=transform)\n",
    "\n",
    "trainloader = torch.utils.data.DataLoader(trainset, batch_size=16,\n",
    "                                         shuffle=True, num_workers=2)\n",
    "testloader = torch.utils.data.DataLoader(testset, batch_size=16,\n",
    "                                        shuffle=False, num_workers=2)\n",
    "\n",
    "classes = (\"T-shirt/top\", \"Trouser\", \"Pullover\", \"Dress\", \"Coat\",\n",
    "          \"Sandal\", \"Shirt\", \"Sneaker\", \"Bag\", \"Ankle Boot\")\n",
    "\n",
    "def matplotlib_imshow(img, one_channel=False):\n",
    "    if one_channel:\n",
    "        img = img.mean(dim=0)\n",
    "    img = img / 2 + 0.5       # unnormalize\n",
    "    npimg = img.numpy()\n",
    "    if one_channel:\n",
    "        plt.imshow(npimg, cmap=\"Greys\")\n",
    "    else:\n",
    "        plt.imshow(np.transpose(npimg, (1, 2, 0)))"
   ]
  },
  {
   "cell_type": "markdown",
   "id": "f5918ee3",
   "metadata": {},
   "source": [
    "- 이전 튜토리얼에서 다뤘던 모델과 비슷한 모델로 정의\n",
    "- 입력 크기가 28x28 에서 32x32 로 바뀜"
   ]
  },
  {
   "cell_type": "code",
   "execution_count": 22,
   "id": "817318e7",
   "metadata": {},
   "outputs": [
    {
     "name": "stdout",
     "output_type": "stream",
     "text": [
      "Net(\n",
      "  (conv1): Conv2d(1, 6, kernel_size=(5, 5), stride=(1, 1))\n",
      "  (pool): MaxPool2d(kernel_size=2, stride=2, padding=0, dilation=1, ceil_mode=False)\n",
      "  (conv2): Conv2d(6, 16, kernel_size=(5, 5), stride=(1, 1))\n",
      "  (fc1): Linear(in_features=256, out_features=120, bias=True)\n",
      "  (fc2): Linear(in_features=120, out_features=84, bias=True)\n",
      "  (fc3): Linear(in_features=84, out_features=10, bias=True)\n",
      ")\n"
     ]
    }
   ],
   "source": [
    "class Net(nn.Module):\n",
    "    def __init__(self):\n",
    "        super(Net, self).__init__()\n",
    "        self.conv1 = nn.Conv2d(1, 6, 5)\n",
    "        self.pool = nn.MaxPool2d(2, 2)\n",
    "        self.conv2 = nn.Conv2d(6, 16, 5)\n",
    "        self.fc1 = nn.Linear(16*4*4, 120)\n",
    "        self.fc2 = nn.Linear(120, 84)\n",
    "        self.fc3 = nn.Linear(84, 10)\n",
    "        \n",
    "    def forward(self, x):\n",
    "        x = self.pool(F.relu(self.conv1(x)))\n",
    "        x = self.pool(F.relu(self.conv2(x)))\n",
    "        x = x.view(-1, 16*4*4)\n",
    "        x = F.relu(self.fc1(x))\n",
    "        x = F.relu(self.fc2(x))\n",
    "        x = self.fc3(x)\n",
    "        return x\n",
    "    \n",
    "net = Net()\n",
    "print(net)"
   ]
  },
  {
   "cell_type": "markdown",
   "id": "7c0f326c",
   "metadata": {},
   "source": [
    "- ```optimizer``` 와 ```criterion(loss_function)``` 을 정의"
   ]
  },
  {
   "cell_type": "code",
   "execution_count": 23,
   "id": "4fb83259",
   "metadata": {},
   "outputs": [],
   "source": [
    "criterion = nn.CrossEntropyLoss()\n",
    "optimizer = optim.SGD(net.parameters(), lr=0.001, momentum=0.9)"
   ]
  },
  {
   "cell_type": "markdown",
   "id": "4b961023",
   "metadata": {},
   "source": [
    "---\n",
    "# 1. TensorBoard setup\n",
    "- ```torch.utils``` 로부터 ```tensorboard``` 를 임포트한 후 ```SummaryWriter``` 를 정의"
   ]
  },
  {
   "cell_type": "code",
   "execution_count": 24,
   "id": "8bcca5dc",
   "metadata": {},
   "outputs": [],
   "source": [
    "from torch.utils.tensorboard import SummaryWriter\n",
    "\n",
    "writer = SummaryWriter(\"runs/fashion_mnist_experiment_1\")"
   ]
  },
  {
   "cell_type": "markdown",
   "id": "bd99b357",
   "metadata": {},
   "source": [
    "---\n",
    "# 2. Writing to TensorBoard"
   ]
  },
  {
   "cell_type": "code",
   "execution_count": 25,
   "id": "da6224ca",
   "metadata": {},
   "outputs": [
    {
     "data": {
      "image/png": "[encoded data removed]",
      "text/plain": [
       "<Figure size 432x288 with 1 Axes>"
      ]
     },
     "metadata": {
      "needs_background": "light"
     },
     "output_type": "display_data"
    }
   ],
   "source": [
    "dataiter = iter(trainloader)\n",
    "imgs, labels = dataiter.next()\n",
    "\n",
    "img_grid = torchvision.utils.make_grid(imgs)\n",
    "\n",
    "matplotlib_imshow(img_grid, one_channel=True)\n",
    "\n",
    "writer.add_image(\"sixteen_fashion_mnist_imgs\", img_grid)"
   ]
  },
  {
   "cell_type": "markdown",
   "id": "30d33a31",
   "metadata": {},
   "source": [
    "---\n",
    "# 3. Inspect the model using TensorBoard\n",
    "- 텐서보드의 강점 중 하나는 바로 복잡한 모델 구조를 시각화하는 능력임\n",
    "- 우리가 만든 모델도 시각화해 보겠음"
   ]
  },
  {
   "cell_type": "code",
   "execution_count": 26,
   "id": "1ad16e6a",
   "metadata": {},
   "outputs": [],
   "source": [
    "writer.add_graph(net, imgs)\n",
    "#writer.close()"
   ]
  },
  {
   "cell_type": "markdown",
   "id": "4773dc9f",
   "metadata": {},
   "source": [
    "---\n",
    "# 4. Adding a \"Projector\" to TensorBoard\n",
    "- **add_embedding** 메서드를 이용하여 고차원 데이터를 저차원 표현으로 시각화할 수 있음"
   ]
  },
  {
   "cell_type": "code",
   "execution_count": 27,
   "id": "14b265f5",
   "metadata": {},
   "outputs": [],
   "source": [
    "def select_n_random(data, labels, n=100):\n",
    "    assert len(data) == len(labels)\n",
    "    \n",
    "    perm = torch.randperm(len(data))\n",
    "    return data[perm][: n], labels[perm][: n]\n",
    "\n",
    "imgs, labels = select_n_random(trainset.data, trainset.targets)\n",
    "class_labels = [classes[lab] for lab in labels]\n",
    "\n",
    "features = imgs.view(-1, 28*28)\n",
    "writer.add_embedding(features,\n",
    "                    metadata=class_labels,\n",
    "                    label_img=imgs.unsqueeze(1))\n",
    "writer.close()"
   ]
  },
  {
   "cell_type": "markdown",
   "id": "b7ff9065",
   "metadata": {},
   "source": [
    "---\n",
    "# 5. Tracking model training with TensorBoard\n",
    "- 이전엔 모델의 성능을 2000 iteration 마다 프린트할 뿐이었음\n",
    "- 이를 TensorBoard 에 loss 를 계속 누적하여 시각화할 수 있음\n",
    "- ```plot_classes_preds``` 함수로 이를 구현"
   ]
  },
  {
   "cell_type": "code",
   "execution_count": 32,
   "id": "319e81f4",
   "metadata": {},
   "outputs": [],
   "source": [
    "def imgs_to_probs(net, imgs):\n",
    "    output = net(imgs)\n",
    "    _, preds_tensor = torch.max(output, 1)\n",
    "    preds = np.squeeze(preds_tensor.numpy())\n",
    "    return preds, [F.softmax(el, dim=0)[i].item() for i, el in zip(preds, output)]\n",
    "\n",
    "def plot_classes_preds(net, imgs, labels):\n",
    "    preds, probs = imgs_to_probs(net, imgs)\n",
    "    fig = plt.figure(figsize=(12, 48))\n",
    "    for idx in np.arange(4):\n",
    "        ax = fig.add_subplot(1, 4, idx+1, xticks=[], yticks=[])\n",
    "        matplotlib_imshow(imgs[idx], one_channel=True)\n",
    "        ax.set_title(\"{0}, {1:.1f}%\\n(label: {2})\".format(\n",
    "        classes[preds[idx]], probs[idx]*100.0, classes[labels[idx]]), \n",
    "                     color=(\"green\" if preds[idx]==labels[idx].item() else \"red\"))\n",
    "    return fig"
   ]
  },
  {
   "cell_type": "markdown",
   "id": "cb7fcf48",
   "metadata": {},
   "source": [
    "- 이제 모델을 학습하고 매 1000 batch 마다 텐서보드에 결과를 기록할 것\n",
    "- 이는 **add_scalar** 함수로 진행"
   ]
  },
  {
   "cell_type": "code",
   "execution_count": 31,
   "id": "162be016",
   "metadata": {},
   "outputs": [
    {
     "name": "stdout",
     "output_type": "stream",
     "text": [
      "Finished Training!\n"
     ]
    }
   ],
   "source": [
    "running_loss = 0.0\n",
    "for epoch in range(1):\n",
    "    for i, data in enumerate(trainloader, 0):\n",
    "        inputs, labels = data\n",
    "        optimizer.zero_grad()\n",
    "        \n",
    "        outputs = net(inputs)\n",
    "        loss = criterion(outputs, labels)\n",
    "        loss.backward()\n",
    "        optimizer.step()\n",
    "        \n",
    "        running_loss += loss.item()\n",
    "        if i%1000 == 999:\n",
    "            writer.add_scalar(\"training loss\",\n",
    "                             running_loss/1000,\n",
    "                             epoch*len(trainloader) + i)\n",
    "            writer.add_figure(\"prediction vs. actuals v2\",\n",
    "                             plot_classes_preds(net, inputs, labels),\n",
    "                             global_step=epoch*len(trainloader) + i)\n",
    "            running_loss = 0.0\n",
    "    print(\"Finished Training!\")"
   ]
  },
  {
   "cell_type": "markdown",
   "id": "78b856c1",
   "metadata": {},
   "source": [
    "---\n",
    "# 6. Assessing trained models with TensorBoard\n"
   ]
  },
  {
   "cell_type": "code",
   "execution_count": 36,
   "id": "ac9ebd6d",
   "metadata": {},
   "outputs": [
    {
     "name": "stdout",
     "output_type": "stream",
     "text": [
      "tensor([[9.7419e-06, 1.9832e-06, 7.6235e-06,  ..., 3.4258e-01, 1.3420e-02,\n",
      "         5.8827e-01],\n",
      "        [1.6097e-03, 7.6924e-06, 9.5998e-01,  ..., 5.9867e-08, 1.1307e-03,\n",
      "         1.6767e-06],\n",
      "        [8.5612e-07, 9.9999e-01, 1.9163e-09,  ..., 1.8187e-07, 8.6391e-08,\n",
      "         1.4608e-09],\n",
      "        ...,\n",
      "        [4.6716e-03, 2.2612e-07, 1.2643e-03,  ..., 7.3208e-07, 9.7046e-01,\n",
      "         1.0387e-06],\n",
      "        [1.4809e-04, 9.6493e-01, 1.0983e-04,  ..., 7.4304e-05, 3.9246e-05,\n",
      "         4.5612e-05],\n",
      "        [1.3661e-03, 5.5169e-04, 2.8098e-03,  ..., 2.8881e-01, 2.3958e-01,\n",
      "         6.1632e-03]])\n",
      "tensor([9, 2, 1,  ..., 8, 1, 5])\n"
     ]
    }
   ],
   "source": [
    "class_probs = []\n",
    "class_label = []\n",
    "\n",
    "with torch.no_grad():\n",
    "    for data in testloader:\n",
    "        imgs, labels = data\n",
    "        output = net(imgs)\n",
    "        class_probs_batch = [F.softmax(el, dim=0) for el in output]\n",
    "        \n",
    "        class_probs.append(class_probs_batch)\n",
    "        class_label.append(labels)\n",
    "\n",
    "test_probs = torch.cat([torch.stack(batch) for batch in class_probs])\n",
    "test_labels = torch.cat(class_label)\n",
    "\n",
    "print(test_probs)\n",
    "print(test_labels)"
   ]
  },
  {
   "cell_type": "code",
   "execution_count": 38,
   "id": "8dd09c2e",
   "metadata": {},
   "outputs": [],
   "source": [
    "def add_pr_curve_tensorboaed(class_index, test_probs, test_label, global_step=0):\n",
    "    tensorboard_truth = test_label == class_index\n",
    "    tensorboard_probs = test_probs[:, class_index]\n",
    "    \n",
    "    writer.add_pr_curve(classes[class_index],\n",
    "                       tensorboard_truth,\n",
    "                       tensorboard_probs,\n",
    "                       global_step = global_step)\n",
    "    writer.close()\n",
    "    \n",
    "for i in range(len(classes)):\n",
    "    add_pr_curve_tensorboaed(i, test_probs, test_labels)"
   ]
  },
  {
   "cell_type": "code",
   "execution_count": null,
   "id": "1c0831b6",
   "metadata": {},
   "outputs": [],
   "source": []
  }
 ],
 "metadata": {
  "kernelspec": {
   "display_name": "Python 3",
   "language": "python",
   "name": "python3"
  },
  "language_info": {
   "codemirror_mode": {
    "name": "ipython",
    "version": 3
   },
   "file_extension": ".py",
   "mimetype": "text/x-python",
   "name": "python",
   "nbconvert_exporter": "python",
   "pygments_lexer": "ipython3",
   "version": "3.8.8"
  }
 },
 "nbformat": 4,
 "nbformat_minor": 5
}
