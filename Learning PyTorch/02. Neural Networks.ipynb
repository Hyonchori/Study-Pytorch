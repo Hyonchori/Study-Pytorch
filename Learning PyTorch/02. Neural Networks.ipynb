{
 "cells": [
  {
   "cell_type": "markdown",
   "id": "be1f5a37",
   "metadata": {},
   "source": [
    "# NEURAL NETWORKS\n",
    "- 파이토치에서 ```torch.nn``` 패키지를 이용하여 인공신경망을 구현할 수 있음\n",
    "- ```nn.module``` 은 레이어와 출력을 반환하는 ```forward(input)``` 메서드를 가짐"
   ]
  },
  {
   "cell_type": "markdown",
   "id": "4228e4a0",
   "metadata": {},
   "source": [
    ">예시로 **digit image 를 분류하는 신경망을 만들어 보겠음**\n",
    ">1. 학습 가능한 파라미터로 이루어진 인공신경망 정의\n",
    ">2. 학습 데이터셋에 대해 iterate\n",
    ">3. 네트워크에 데이터 입력\n",
    ">4. loss 계산\n",
    ">5. 네트워크 파라미터에 gradient 를 역전파\n",
    ">6. ```weight = weight - learning_rate * gradient``` 형식으로 각 파라미터를 업데이트"
   ]
  },
  {
   "cell_type": "markdown",
   "id": "23007df0",
   "metadata": {},
   "source": [
    "---\n",
    "# 1. Define the network"
   ]
  },
  {
   "cell_type": "code",
   "execution_count": 40,
   "id": "89d517c6",
   "metadata": {},
   "outputs": [
    {
     "name": "stdout",
     "output_type": "stream",
     "text": [
      "Net(\n",
      "  (conv1): Conv2d(1, 6, kernel_size=(5, 5), stride=(1, 1))\n",
      "  (conv2): Conv2d(6, 16, kernel_size=(5, 5), stride=(1, 1))\n",
      "  (fc1): Linear(in_features=400, out_features=120, bias=True)\n",
      "  (fc2): Linear(in_features=120, out_features=84, bias=True)\n",
      "  (fc3): Linear(in_features=84, out_features=10, bias=True)\n",
      ")\n"
     ]
    }
   ],
   "source": [
    "import torch\n",
    "import torch.nn as nn\n",
    "import torch.nn.functional as F\n",
    "\n",
    "class Net(nn.Module):\n",
    "    def __init__(self):\n",
    "        super(Net, self).__init__()\n",
    "        self.conv1 = nn.Conv2d(1, 6, 5)    # Conv2d(input_channel, output_channel, kernel_size)\n",
    "        self.conv2 = nn.Conv2d(6, 16, 5)\n",
    "        \n",
    "        self.fc1 = nn.Linear(16*5*5, 120)   # 5*5 from image dimension\n",
    "        self.fc2 = nn.Linear(120, 84)\n",
    "        self.fc3 = nn.Linear(84, 10)\n",
    "        \n",
    "    def forward(self, x):\n",
    "        x = F.max_pool2d(F.relu(self.conv1(x)), (2, 2))\n",
    "        print(x.size())\n",
    "        x = F.max_pool2d(F.relu(self.conv2(x)), 2)     # pooling window 가 정사각형이면 스칼라로 적어도 됨\n",
    "        print(x.size())\n",
    "        x = torch.flatten(x, 1)     # batch_size 를 제외하고 모든 차원을 flatten\n",
    "        x = F.relu(self.fc1(x))\n",
    "        x = F.relu(self.fc2(x))\n",
    "        x = self.fc3(x)\n",
    "        return x\n",
    "\n",
    "net = Net()\n",
    "print(net)"
   ]
  },
  {
   "cell_type": "markdown",
   "id": "17f349db",
   "metadata": {},
   "source": [
    "- **forwawrd** 함수는 직접 정의해야 함\n",
    "- **backward** 함수는 ```autograd``` 로 자동으로 정의됨"
   ]
  },
  {
   "cell_type": "markdown",
   "id": "a6ba7fb4",
   "metadata": {},
   "source": [
    ">**주의사항**\n",
    ">- ```torch.nn``` 은 **미니배치 형식의 입력만 지원**함\n",
    ">- single sample 은 지원하지 않음\n",
    ">- 예를 들어 ```nn.Conv2d``` 는 오직 ```nSamples x nChannels x Height x Width``` 형태의 입력만 받음\n",
    ">- 만약 single sample 을 사용해야 한다면 ```input.unsqueeze(0)``` 함수를 이용하여 미니 배치로 만들 수 있음"
   ]
  },
  {
   "cell_type": "markdown",
   "id": "11cc8582",
   "metadata": {},
   "source": [
    "- **학습 가능한 파라미터** 는 ```net.parameters()``` 메서드로 불러올 수 있음"
   ]
  },
  {
   "cell_type": "code",
   "execution_count": 2,
   "id": "07d32226",
   "metadata": {},
   "outputs": [
    {
     "name": "stdout",
     "output_type": "stream",
     "text": [
      "10\n",
      "torch.Size([6, 1, 5, 5])\n"
     ]
    }
   ],
   "source": [
    "params = list(net.parameters())\n",
    "print(len(params))\n",
    "print(params[0].size())"
   ]
  },
  {
   "cell_type": "markdown",
   "id": "8a20cd6a",
   "metadata": {},
   "source": [
    "- 테스트로 랜덤 32x32 이미지를 입력해보겠음\n",
    "- MSNIT 데이터셋을 사용한다면 이미지 리사이즈 작업 필요"
   ]
  },
  {
   "cell_type": "code",
   "execution_count": 30,
   "id": "06ca7471",
   "metadata": {},
   "outputs": [
    {
     "data": {
      "text/plain": [
       "<matplotlib.image.AxesImage at 0x2513fb00310>"
      ]
     },
     "execution_count": 30,
     "metadata": {},
     "output_type": "execute_result"
    },
    {
     "data": {
      "image/png": "[encoded data removed]",
      "text/plain": [
       "<Figure size 432x288 with 1 Axes>"
      ]
     },
     "metadata": {
      "needs_background": "light"
     },
     "output_type": "display_data"
    }
   ],
   "source": [
    "tmp = torch.randn(1, 1, 32, 32)\n",
    "import matplotlib.pyplot as plt\n",
    "\n",
    "plt.imshow(tmp.view(32, 32).numpy())"
   ]
  },
  {
   "cell_type": "code",
   "execution_count": 41,
   "id": "60528e38",
   "metadata": {},
   "outputs": [
    {
     "name": "stdout",
     "output_type": "stream",
     "text": [
      "torch.Size([1, 6, 14, 14])\n",
      "torch.Size([1, 16, 5, 5])\n",
      "tensor([[-0.0337, -0.0243, -0.0568, -0.0504, -0.0541,  0.0672,  0.0552,  0.1926,\n",
      "          0.0341, -0.1297]], grad_fn=<AddmmBackward>)\n"
     ]
    }
   ],
   "source": [
    "out = net(tmp)\n",
    "print(out)"
   ]
  },
  {
   "cell_type": "markdown",
   "id": "5a2fd1fd",
   "metadata": {},
   "source": [
    "- 파라미터의 **gradient buffer** 를 초기화하고\n",
    "- 역전파를 진행"
   ]
  },
  {
   "cell_type": "code",
   "execution_count": 13,
   "id": "5478a19f",
   "metadata": {},
   "outputs": [],
   "source": [
    "net.zero_grad()\n",
    "out.backward(torch.randn(1, 10))"
   ]
  },
  {
   "cell_type": "markdown",
   "id": "d490d4e5",
   "metadata": {},
   "source": [
    "---\n",
    "## Recap\n",
    "- ```torch.Tensor``` : autograd 연산을 지원하는 다차원 배열. 텐서에 대한 gradient 를 저장하기도 함\n",
    "- ```nn.Module``` : 인공신경망 모듈. 파라미터를 캡슐화, 저장, 로드, GPU 옮기기 등을 편리하게 해줌\n",
    "- ```nn.Parameter``` : 텐서의 한 종류. ```Module``` 의 특성으로 할당되면 자동으로 파라미터로 등록됨\n",
    "- ```autograd.Function``` : autograd 연산의 **forward, backward** 를 정의함. 모든 ```Tensor``` 연산은 적어도 하나 이상의 ```Function``` 을 생성함."
   ]
  },
  {
   "cell_type": "markdown",
   "id": "6873e2a5",
   "metadata": {},
   "source": [
    "---\n",
    "# 2. Loss Function\n",
    "- loss function 은 (모델의 출력, 정답값) 을 입력으로 받음\n",
    "- 그리고 모델의 출력이 정답값과 얼마나 다른지 추정함"
   ]
  },
  {
   "cell_type": "markdown",
   "id": "697c995e",
   "metadata": {},
   "source": [
    "- 파이토치는 다양한 loss function 을 제공하지만 여기선 **mean-squared error** 를 계산하는 ```nn.MSELoss``` 를 사용해 보겠음"
   ]
  },
  {
   "cell_type": "code",
   "execution_count": 18,
   "id": "4febdff4",
   "metadata": {},
   "outputs": [
    {
     "name": "stdout",
     "output_type": "stream",
     "text": [
      "tensor(0.9966, grad_fn=<MseLossBackward>)\n"
     ]
    }
   ],
   "source": [
    "output = net(tmp)\n",
    "target = torch.randn(10)\n",
    "target = target.view(1, -1)   # 모델의 출력과 같은 차원으로 만드는 작업\n",
    "criterion = nn.MSELoss()\n",
    "\n",
    "loss = criterion(output, target)\n",
    "print(loss)"
   ]
  },
  {
   "cell_type": "code",
   "execution_count": 24,
   "id": "0e069ea5",
   "metadata": {},
   "outputs": [
    {
     "name": "stdout",
     "output_type": "stream",
     "text": [
      "<MseLossBackward object at 0x000002513F9E02B0>\n",
      "<AddmmBackward object at 0x000002513F9E0CA0>\n",
      "<AccumulateGrad object at 0x000002513F9E08B0>\n"
     ]
    }
   ],
   "source": [
    "print(loss.grad_fn)\n",
    "print(loss.grad_fn.next_functions[0][0])\n",
    "print(loss.grad_fn.next_functions[0][0].next_functions[0][0])"
   ]
  },
  {
   "cell_type": "markdown",
   "id": "8edaa7c3",
   "metadata": {},
   "source": [
    "- 이런 방식으로 계속 역전파하여 결국 포함된 모든 연산에 사용된 파라미터들의 gradient 를 계산함"
   ]
  },
  {
   "cell_type": "markdown",
   "id": "8aca5440",
   "metadata": {},
   "source": [
    "---\n",
    "# 3. Backprop\n",
    "- ```loss.backward()``` 를 호출하여 에러를 역전파\n",
    "- 이때 **이미 존재하는 gradient 를 초기화하고 호출해야 함**. 안그러면 gradient 가 축적됨"
   ]
  },
  {
   "cell_type": "code",
   "execution_count": 25,
   "id": "bc5a7865",
   "metadata": {},
   "outputs": [
    {
     "name": "stdout",
     "output_type": "stream",
     "text": [
      "tensor([0., 0., 0., 0., 0., 0.])\n",
      "tensor([ 0.0093,  0.0006,  0.0096,  0.0110, -0.0082, -0.0072])\n"
     ]
    }
   ],
   "source": [
    "net.zero_grad()\n",
    "\n",
    "print(net.conv1.bias.grad)\n",
    "loss.backward()\n",
    "print(net.conv1.bias.grad)"
   ]
  },
  {
   "cell_type": "markdown",
   "id": "2c355ba7",
   "metadata": {},
   "source": [
    "---\n",
    "# 4. Update the weights\n",
    "- 가장 간단한 SGD 로 파라미터를 업데이트하는 방식은 다음과 같음  \n",
    "```weight = weight = learning_rate * gradient```"
   ]
  },
  {
   "cell_type": "code",
   "execution_count": 27,
   "id": "9c765f0e",
   "metadata": {},
   "outputs": [],
   "source": [
    "learning_rate = 0.01\n",
    "for f in net.parameters():\n",
    "    f.data.sub_(f.grad.data * learning_rate)"
   ]
  },
  {
   "cell_type": "markdown",
   "id": "7171a53d",
   "metadata": {},
   "source": [
    "- 하지만 파라미터를 업데이트하는 방식은 SGD 말고도 매우 다양함\n",
    "- **따라서 torch.optim 패키지를 이용하는 것이 더 간단함**"
   ]
  },
  {
   "cell_type": "code",
   "execution_count": 28,
   "id": "4eca07b4",
   "metadata": {},
   "outputs": [],
   "source": [
    "import torch.optim as optim\n",
    "\n",
    "optimizer = optim.SGD(net.parameters(), lr=0.01)\n",
    "\n",
    "optimizer.zero_grad()\n",
    "output = net(tmp)\n",
    "loss = criterion(output, target)\n",
    "loss.backward()\n",
    "optimizer.step()"
   ]
  },
  {
   "cell_type": "code",
   "execution_count": null,
   "id": "37487987",
   "metadata": {},
   "outputs": [],
   "source": []
  }
 ],
 "metadata": {
  "kernelspec": {
   "display_name": "Python 3",
   "language": "python",
   "name": "python3"
  },
  "language_info": {
   "codemirror_mode": {
    "name": "ipython",
    "version": 3
   },
   "file_extension": ".py",
   "mimetype": "text/x-python",
   "name": "python",
   "nbconvert_exporter": "python",
   "pygments_lexer": "ipython3",
   "version": "3.8.8"
  }
 },
 "nbformat": 4,
 "nbformat_minor": 5
}
