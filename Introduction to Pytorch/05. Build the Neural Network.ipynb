{
 "cells": [
  {
   "cell_type": "markdown",
   "id": "316f471c",
   "metadata": {},
   "source": [
    "# BUILD THE NEURAL NETWORK\n",
    "- 인공신경망은 **layer** 와 **module** 로 구성됨\n",
    "- **torch.nn** 네임스페이스는 사용자 정의 네트워크를 만들기 위한 거의 모든 building block 을 제공함\n",
    "- 모든 모듈은 **nn.Module** 을 상속함\n",
    "- 인공신경망은 그 자체로 하나의 모듈임"
   ]
  },
  {
   "cell_type": "markdown",
   "id": "447a5fa6",
   "metadata": {},
   "source": [
    "- 여기선 FashonMNIST 데이터셋 이미지를 분류하기 위한 인공신경망을 구성해보겠음"
   ]
  },
  {
   "cell_type": "code",
   "execution_count": 1,
   "id": "334487a3",
   "metadata": {},
   "outputs": [],
   "source": [
    "import os\n",
    "import torch\n",
    "from torch import nn\n",
    "from torch.utils.data import DataLoader\n",
    "from torchvision import datasets, transforms"
   ]
  },
  {
   "cell_type": "markdown",
   "id": "4a5c67fb",
   "metadata": {},
   "source": [
    "---\n",
    "# 1. Get Device for Training\n",
    "- **GPU** 와 같은 하드웨어 가속기가 있다면 사용하는 것이 좋음\n",
    "- **torch.cuda** 를 통해 GPU 사용이 가능한지 확인 후 가능하다면 사용, 안되면 CPU 사용"
   ]
  },
  {
   "cell_type": "code",
   "execution_count": 2,
   "id": "e97a14fc",
   "metadata": {},
   "outputs": [
    {
     "name": "stdout",
     "output_type": "stream",
     "text": [
      "Using cuda device\n"
     ]
    }
   ],
   "source": [
    "device = \"cuda\" if torch.cuda.is_available() else \"cpu\"\n",
    "print(\"Using {} device\".format(device))"
   ]
  },
  {
   "cell_type": "markdown",
   "id": "8ee52e45",
   "metadata": {},
   "source": [
    "---\n",
    "# 2. Define the Class\n",
    "- ```nn.Module``` 을 상속하여 사용자 정의 인공신경망을 정의\n",
    "- ```__init__``` 생성자에서 해당 인공신경망에서 사용할 layer 를 초기화함\n",
    "- ```forward``` 메서드에서 입력 데이터에 대한 처리 연산을 수행"
   ]
  },
  {
   "cell_type": "code",
   "execution_count": 4,
   "id": "aa6e2325",
   "metadata": {},
   "outputs": [],
   "source": [
    "class NeuralNetwork(nn.Module):\n",
    "    def __init__(self):\n",
    "        super(NeuralNetwork, self).__init__()\n",
    "        self.flatten = nn.Flatten()\n",
    "        self.linear_relu_stack = nn.Sequential(\n",
    "            nn.Linear(28*28, 512),\n",
    "            nn.ReLU(),\n",
    "            nn.Linear(512, 512),\n",
    "            nn.ReLU(),\n",
    "            nn.Linear(512, 10),\n",
    "            nn.ReLU()\n",
    "        )\n",
    "        \n",
    "    def forward(self, x):\n",
    "        x = self.flatten(x)\n",
    "        logits = self.linear_relu_stack(x)\n",
    "        return logits"
   ]
  },
  {
   "cell_type": "markdown",
   "id": "5b9fa8b2",
   "metadata": {},
   "source": [
    "- ```NeuralNetwork``` 의 인스턴스를 만들고 ```device``` 로 이동시킴"
   ]
  },
  {
   "cell_type": "code",
   "execution_count": 5,
   "id": "9fc74a4f",
   "metadata": {},
   "outputs": [
    {
     "name": "stdout",
     "output_type": "stream",
     "text": [
      "NeuralNetwork(\n",
      "  (flatten): Flatten(start_dim=1, end_dim=-1)\n",
      "  (linear_relu_stack): Sequential(\n",
      "    (0): Linear(in_features=784, out_features=512, bias=True)\n",
      "    (1): ReLU()\n",
      "    (2): Linear(in_features=512, out_features=512, bias=True)\n",
      "    (3): ReLU()\n",
      "    (4): Linear(in_features=512, out_features=10, bias=True)\n",
      "    (5): ReLU()\n",
      "  )\n",
      ")\n"
     ]
    }
   ],
   "source": [
    "model = NeuralNetwork().to(device)\n",
    "print(model)"
   ]
  },
  {
   "cell_type": "markdown",
   "id": "17582f1a",
   "metadata": {},
   "source": [
    "- 해당 모델을 사용하려면 입력 데이터를 넣으면 됨\n",
    "- 모델에 입력 데이터를 넣으면 자동으로 ```forward``` 메서드가 실행됨 (직접 호출하지 않도록 주의!)"
   ]
  },
  {
   "cell_type": "code",
   "execution_count": 8,
   "id": "a680b007",
   "metadata": {},
   "outputs": [
    {
     "name": "stdout",
     "output_type": "stream",
     "text": [
      "Logits: tensor([[0.0507, 0.0445, 0.0000, 0.0991, 0.0094, 0.0000, 0.0687, 0.0000, 0.0000,\n",
      "         0.0000]], device='cuda:0', grad_fn=<ReluBackward0>)\n",
      "\n",
      "Predicted Probabilty: tensor([[0.1023, 0.1017, 0.0973, 0.1074, 0.0982, 0.0973, 0.1042, 0.0973, 0.0973,\n",
      "         0.0973]], device='cuda:0', grad_fn=<SoftmaxBackward>)\n",
      "\n",
      "Predicted class: tensor([3], device='cuda:0')\n"
     ]
    }
   ],
   "source": [
    "X = torch.rand(1, 28, 28, device=device)\n",
    "logits = model(X)\n",
    "pred_prob = nn.Softmax(dim=1)(logits)\n",
    "y_pred = pred_prob.argmax(1)\n",
    "\n",
    "print(f\"Logits: {logits}\\n\")\n",
    "print(f\"Predicted Probabilty: {pred_prob}\\n\")\n",
    "print(f\"Predicted class: {y_pred}\")"
   ]
  },
  {
   "cell_type": "markdown",
   "id": "4ba62e71",
   "metadata": {},
   "source": [
    "---\n",
    "# 3. Model Parameters\n",
    "- 인공신경망 내부 대부분의 layer 들은 *parameterized* 되어 있음 (학습으로 최적화되는 weight 와 bias 로 구성)\n",
    "- ```nn.Module``` 을 상속하면 자동으로 사용자가 정의한 모델 객체 내부에서 정의된 모든 필드를 추적해줌\n",
    "- ```parameters()``` 또는 ```named_parameters()``` 메서드를 이용해 모든 파라미터에 접근할 수 있음"
   ]
  },
  {
   "cell_type": "code",
   "execution_count": 10,
   "id": "7b8796f2",
   "metadata": {},
   "outputs": [
    {
     "name": "stdout",
     "output_type": "stream",
     "text": [
      "Model structure:  NeuralNetwork(\n",
      "  (flatten): Flatten(start_dim=1, end_dim=-1)\n",
      "  (linear_relu_stack): Sequential(\n",
      "    (0): Linear(in_features=784, out_features=512, bias=True)\n",
      "    (1): ReLU()\n",
      "    (2): Linear(in_features=512, out_features=512, bias=True)\n",
      "    (3): ReLU()\n",
      "    (4): Linear(in_features=512, out_features=10, bias=True)\n",
      "    (5): ReLU()\n",
      "  )\n",
      ") \n",
      "\n",
      "\n",
      "Layer: linear_relu_stack.0.weight\n",
      "Size: torch.Size([512, 784])\n",
      "Values: tensor([[-0.0002, -0.0347, -0.0204,  ..., -0.0232, -0.0222,  0.0346],\n",
      "        [-0.0180,  0.0095,  0.0122,  ..., -0.0014,  0.0238,  0.0011]],\n",
      "       device='cuda:0', grad_fn=<SliceBackward>)\n",
      "\n",
      "Layer: linear_relu_stack.0.bias\n",
      "Size: torch.Size([512])\n",
      "Values: tensor([-0.0326,  0.0038], device='cuda:0', grad_fn=<SliceBackward>)\n",
      "\n",
      "Layer: linear_relu_stack.2.weight\n",
      "Size: torch.Size([512, 512])\n",
      "Values: tensor([[-0.0251, -0.0434, -0.0070,  ..., -0.0108, -0.0187, -0.0208],\n",
      "        [ 0.0067,  0.0121, -0.0187,  ...,  0.0286,  0.0399, -0.0023]],\n",
      "       device='cuda:0', grad_fn=<SliceBackward>)\n",
      "\n",
      "Layer: linear_relu_stack.2.bias\n",
      "Size: torch.Size([512])\n",
      "Values: tensor([0.0113, 0.0336], device='cuda:0', grad_fn=<SliceBackward>)\n",
      "\n",
      "Layer: linear_relu_stack.4.weight\n",
      "Size: torch.Size([10, 512])\n",
      "Values: tensor([[ 0.0067, -0.0307,  0.0234,  ..., -0.0366,  0.0027,  0.0237],\n",
      "        [-0.0110,  0.0175,  0.0050,  ..., -0.0124, -0.0312, -0.0022]],\n",
      "       device='cuda:0', grad_fn=<SliceBackward>)\n",
      "\n",
      "Layer: linear_relu_stack.4.bias\n",
      "Size: torch.Size([10])\n",
      "Values: tensor([-0.0329,  0.0413], device='cuda:0', grad_fn=<SliceBackward>)\n",
      "\n"
     ]
    }
   ],
   "source": [
    "print(\"Model structure: \", model, '\\n\\n')\n",
    "\n",
    "for name, param in model.named_parameters():\n",
    "    print(f\"Layer: {name}\")\n",
    "    print(f\"Size: {param.size()}\")\n",
    "    print(f\"Values: {param[: 2]}\\n\")"
   ]
  },
  {
   "cell_type": "code",
   "execution_count": null,
   "id": "23339575",
   "metadata": {},
   "outputs": [],
   "source": []
  }
 ],
 "metadata": {
  "kernelspec": {
   "display_name": "Python 3",
   "language": "python",
   "name": "python3"
  },
  "language_info": {
   "codemirror_mode": {
    "name": "ipython",
    "version": 3
   },
   "file_extension": ".py",
   "mimetype": "text/x-python",
   "name": "python",
   "nbconvert_exporter": "python",
   "pygments_lexer": "ipython3",
   "version": "3.8.8"
  }
 },
 "nbformat": 4,
 "nbformat_minor": 5
}
