{
 "cells": [
  {
   "cell_type": "markdown",
   "id": "97e9344a",
   "metadata": {},
   "source": [
    "# DATASETS & DATALOADERS\n",
    "- 데이터를 처리하는 코드는 복잡하고 유지하기 힘들 수 있음\n",
    "- 그래서 데이터셋 관련 코드는 모델 학습과 분리되어야 가독성과 모듈성이 좋아짐\n",
    "- 파이토치는 이를 위해 ```torch.utils.data.DataLoader``` 와 ```torch.utils.data.Dataset``` 을 제공함\n",
    "- ```Dataset``` 은 샘플과 그 라벨을 저장해줌\n",
    "- ```Dataloader``` 는 ```Dataset``` 을 wrap하여 iterable 하게 만들고 샘플에 접근하기 쉽게 해줌"
   ]
  },
  {
   "cell_type": "markdown",
   "id": "57c611fa",
   "metadata": {},
   "source": [
    "- 파이토치는 이미 존재하는 유명한 데이터셋들을 많이 제공함 (FashionMNIST 등)\n",
    "- 이런 데이터셋들은 우리 모델의 프로토타입이나 벤치마크에 사용할 수 있음\n",
    "- **Image, Text, Audio** 등 다양함"
   ]
  },
  {
   "cell_type": "markdown",
   "id": "116d4a93",
   "metadata": {},
   "source": [
    "---\n",
    "# 1. Loading a Dataset\n",
    "- 여기선 **TorchVision**으로부터 FashionMNIST 데이터셋을 로드하는 법에 대해 다룸\n",
    "- **FashionMNIST** 데이터셋은 60,000개의 학습 데이터셋, 10,000개의 테스트셋으로 구성됨\n",
    "- 각 샘플은 28x28 크기의 grayscale 이미지임\n",
    "- 각 이미지는 10개의 클래스로 분류됨"
   ]
  },
  {
   "cell_type": "markdown",
   "id": "a8ac363c",
   "metadata": {},
   "source": [
    "> 여기선 FashionMNIST를 다음 파라미터를 통해 로드함\n",
    ">- ```root``` : train/test 데이터가 저장된 path\n",
    ">- ```train``` : train 데이터인지 / test 데이터인지\n",
    ">- ```download = True``` : ```root``` 가 가능하지 않다면 인터넷으로부터 데이터를 직접 다운로드\n",
    ">- ```transform``` and ```target_transform``` : feature 와 label 의 변환 방법을 정의"
   ]
  },
  {
   "cell_type": "code",
   "execution_count": 2,
   "id": "ef1a9e01",
   "metadata": {},
   "outputs": [],
   "source": [
    "import torch\n",
    "from torch.utils.data import Dataset\n",
    "from torchvision import datasets\n",
    "from torchvision.transforms import ToTensor\n",
    "import matplotlib.pyplot as plt"
   ]
  },
  {
   "cell_type": "code",
   "execution_count": 4,
   "id": "e7d67818",
   "metadata": {},
   "outputs": [],
   "source": [
    "training_data = datasets.FashionMNIST(\n",
    "    root=\"data\",\n",
    "    train=True,\n",
    "    download=True,\n",
    "    transform=ToTensor()\n",
    ")\n",
    "\n",
    "test_data = datasets.FashionMNIST(\n",
    "    root=\"data\",\n",
    "    train=False,\n",
    "    download=True,\n",
    "    transform=ToTensor()\n",
    ")"
   ]
  },
  {
   "cell_type": "markdown",
   "id": "63931516",
   "metadata": {},
   "source": [
    "---\n",
    "# 2. Iterating and Visualizing the Dataset\n",
    "- ```Datasets``` 를 리스트처럼 임의로 인덱싱할 수 있음 : ```training_data[index]```\n",
    "- ```matplotlib``` 라이브러리를 이용하여 몇몇 샘플을 시각화해보겠음"
   ]
  },
  {
   "cell_type": "code",
   "execution_count": 9,
   "id": "9a6cfee0",
   "metadata": {},
   "outputs": [
    {
     "data": {
      "image/png": "[encoded data removed]",
      "text/plain": [
       "<Figure size 576x576 with 9 Axes>"
      ]
     },
     "metadata": {
      "needs_background": "light"
     },
     "output_type": "display_data"
    }
   ],
   "source": [
    "labels_map = {\n",
    "    0: \"T-Shirt\",\n",
    "    1: \"Trouser\",\n",
    "    2: \"Pullover\",\n",
    "    3: \"Dress\",\n",
    "    4: \"Coat\",\n",
    "    5: \"Sandal\",\n",
    "    6: \"Shirt\",\n",
    "    7: \"Sneaker\",\n",
    "    8: \"Bag\", \n",
    "    9: \"Ankle Boot\"\n",
    "}\n",
    "\n",
    "figure = plt.figure(figsize=(8, 8))\n",
    "cols, rows = 3, 3\n",
    "for i in range(1, cols*rows+1):\n",
    "    sample_idx = torch.randint(len(training_data), size=(1, )).item()\n",
    "    img, label = training_data[sample_idx]\n",
    "    figure.add_subplot(rows, cols, i)\n",
    "    plt.title(labels_map[label])\n",
    "    plt.axis(\"off\")\n",
    "    plt.imshow(img.squeeze(), cmap=\"gray\")\n",
    "plt.show()"
   ]
  },
  {
   "cell_type": "markdown",
   "id": "0852d864",
   "metadata": {},
   "source": [
    "---\n",
    "# 3. Creating a Custom Dataset for yout files\n",
    ">custom Dataset class 가 필수적으로 갖춰야 할 메서드 3가지\n",
    ">1. **init** \n",
    ">2. **len**\n",
    ">3. **getitem**\n",
    "\n",
    "- 여기선 ```img_dir```에 저장된 FashionMNIST 이미지와 ```annotations_file```에 csv파일로 저장된 라벨을 이용해 직접 데이터셋을 만드는 법을 보겠음\n",
    "- ```annotations_file```은 ```이미지 이름 , 이미지 라벨```로 구성되어야 함 (```tshirt1.jpg, 0```)"
   ]
  },
  {
   "cell_type": "code",
   "execution_count": 11,
   "id": "98f93a3a",
   "metadata": {},
   "outputs": [],
   "source": [
    "import os\n",
    "import pandas as pd\n",
    "from torchvision.io import read_image\n",
    "\n",
    "class CustomImageDataset(Dataset):\n",
    "    def __init__(self, annotations_file, img_dir, transform=None, target_transform=None):\n",
    "        self.img_labels = pd.read_csv(annotations_file)\n",
    "        self.img_dir = img_dir\n",
    "        self.transform = transform\n",
    "        self.target_transform = target_transform\n",
    "        \n",
    "    def __len__(self):\n",
    "        return len(self.img_labels)\n",
    "    \n",
    "    def __getitem__(self, idx):\n",
    "        img_path = os.path.join(self.img_dir, self.img_labels.iloc[idx, 0])\n",
    "        image = read_image(img_path)\n",
    "        label = self.img_labels.iloc[idx, 1]\n",
    "        if self.transform:\n",
    "            image = self.transform(image)\n",
    "        if self.target_transform:\n",
    "            label = self.target_transform(label)\n",
    "        return image, label"
   ]
  },
  {
   "cell_type": "markdown",
   "id": "dfead1e6",
   "metadata": {},
   "source": [
    ">**init**\n",
    ">- Dataset 객체가 인스턴스로 생성될 때 처음 한 번만 실행\n",
    ">- 이미지를 포함하고 있는 폴더, annotation file, 이미지와 라벨에 적용할 transform 등을 설정\n",
    "\n",
    ">**len**\n",
    ">- 데이터셋 샘플의 숫자를 반환\n",
    "\n",
    ">**getitem**\n",
    ">- 인덱스 ```idx```가 주어지면 데이터셋에서 해당 인덱스에 해당하는 샘플을 반환\n",
    ">- 인덱스를 기반으로 해당 이미지의 위치를 파악한 뒤 ```read_image```함수로 이미지를 읽어옴\n",
    ">- 해당 이미지에 해당하는 라벨도 이미 로드한 ```self.img_labels``` 에서 찾아옴\n",
    ">- ```transform, target_transform```이 설정됐다면 적용 후 이미지와 라벨을 튜플로 반환"
   ]
  },
  {
   "cell_type": "markdown",
   "id": "6ab42731",
   "metadata": {},
   "source": [
    "---\n",
    "# 4. Preparing your data for training with DataLoaders\n",
    "- ```Dataset```은 하나의 feature와 label을 반환함\n",
    "- 하지만 모델을 학습할 때에는 주로 **미니배치** 샘플을 이용함\n",
    "- 과적합을 방지하기 위해 매 에폭마다 데이터를 **shuffle**함\n",
    "- 데이터 검색을 가속하기 위해 파이썬의 ```multiprocessing```을 이용함"
   ]
  },
  {
   "cell_type": "markdown",
   "id": "2b98fad2",
   "metadata": {},
   "source": [
    "- ```DataLoader```는 이 복잡한 작업을 도와줌"
   ]
  },
  {
   "cell_type": "code",
   "execution_count": 12,
   "id": "70cb78b8",
   "metadata": {},
   "outputs": [],
   "source": [
    "from torch.utils.data import DataLoader\n",
    "\n",
    "train_dataloader = DataLoader(training_data, batch_size=64, shuffle=True)\n",
    "test_dataloader = DataLoader(test_data, batch_size=64, shuffle=True)"
   ]
  },
  {
   "cell_type": "markdown",
   "id": "edbf9147",
   "metadata": {},
   "source": [
    "---\n",
    "# 5. Iterate through the DataLoader\n",
    "- 위에서 ```Dataset```을 ```DataLoader```로 로드함\n",
    "- 이제 데이터셋을 필요에 따라 iterate할 수 있음\n",
    "- 각 iteration에서 미니배치로 된 ```train_features```와 ```train_labels```를 반환함\n",
    "- ```shuffle=True```로 설정하면 모든 배치가 iterate된 후에 데이터셋이 shuffle됨"
   ]
  },
  {
   "cell_type": "code",
   "execution_count": 14,
   "id": "269df8cb",
   "metadata": {},
   "outputs": [
    {
     "name": "stdout",
     "output_type": "stream",
     "text": [
      "Feature batch shape: torch.Size([64, 1, 28, 28])\n",
      "Labels batch shape: torch.Size([64])\n"
     ]
    }
   ],
   "source": [
    "train_features, train_labels = next(iter(train_dataloader))\n",
    "print(f\"Feature batch shape: {train_features.size()}\")\n",
    "print(f\"Labels batch shape: {train_labels.size()}\")"
   ]
  },
  {
   "cell_type": "code",
   "execution_count": 17,
   "id": "a4c29a9a",
   "metadata": {},
   "outputs": [
    {
     "data": {
      "image/png": "[encoded data removed]",
      "text/plain": [
       "<Figure size 432x288 with 1 Axes>"
      ]
     },
     "metadata": {
      "needs_background": "light"
     },
     "output_type": "display_data"
    }
   ],
   "source": [
    "img = train_features[0].squeeze()\n",
    "label = train_labels[0].item()\n",
    "plt.imshow(img, cmap=\"gray\")\n",
    "plt.title(labels_map[label])\n",
    "plt.show()"
   ]
  },
  {
   "cell_type": "code",
   "execution_count": null,
   "id": "78b9447c",
   "metadata": {},
   "outputs": [],
   "source": []
  }
 ],
 "metadata": {
  "kernelspec": {
   "display_name": "Python 3",
   "language": "python",
   "name": "python3"
  },
  "language_info": {
   "codemirror_mode": {
    "name": "ipython",
    "version": 3
   },
   "file_extension": ".py",
   "mimetype": "text/x-python",
   "name": "python",
   "nbconvert_exporter": "python",
   "pygments_lexer": "ipython3",
   "version": "3.8.8"
  }
 },
 "nbformat": 4,
 "nbformat_minor": 5
}
