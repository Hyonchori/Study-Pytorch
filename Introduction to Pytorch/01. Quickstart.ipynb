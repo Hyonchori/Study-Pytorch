{
 "cells": [
  {
   "cell_type": "markdown",
   "id": "7f16d5a9",
   "metadata": {},
   "source": [
    "# QUICKSTART\n",
    "기본적인 기계 학습을 구현하기 위한 API 사용에 대해 다룸"
   ]
  },
  {
   "cell_type": "markdown",
   "id": "03b55c24",
   "metadata": {},
   "source": [
    "---\n",
    "# 1. Working with data\n",
    "- 파이토치에서 데이터를 다룰 때 핵심이 되는 두 가지\n",
    "1. **torch.utils.data.Dataset** : sample과 그에 맞는 label을 저장\n",
    "2. **torch.utils.data.DataLoader** : Dataset을 iterable 하게 wrap"
   ]
  },
  {
   "cell_type": "code",
   "execution_count": 1,
   "id": "a5878aca",
   "metadata": {},
   "outputs": [],
   "source": [
    "import torch\n",
    "from torch import nn\n",
    "from torch.utils.data import DataLoader\n",
    "from torchvision import datasets\n",
    "from torchvision.transforms import ToTensor, Lambda, Compose\n",
    "import matplotlib.pyplot as plt"
   ]
  },
  {
   "cell_type": "markdown",
   "id": "685a971d",
   "metadata": {},
   "source": [
    "- 파이토치는 **TorchText, TorchVision, TorchAudio**와 같은 domain-specific 라이브러리를 제공함\n",
    "- 각 라이브러리엔 데이터셋이 포함됨\n",
    "- 여기선 TorchVision 의 데이터셋을 사용해볼 것"
   ]
  },
  {
   "cell_type": "markdown",
   "id": "51ceeeab",
   "metadata": {},
   "source": [
    "> **torchvision.datasets**\n",
    ">- CIFAR, COCO 와 같은 real-wordl vision data 인 Dataset 객체를 포함함\n",
    ">- 여기선 **FashionMNIST** 데이터셋을 사용해볼 것\n",
    ">- 모든 TorchVisio 의 Dataset은 두 가지 arguements를 포함함: **transform, target_transform**\n",
    "    >- 이는 sample과 그 label을 조작하기 위함임"
   ]
  },
  {
   "cell_type": "code",
   "execution_count": 3,
   "id": "b19fa582",
   "metadata": {},
   "outputs": [],
   "source": [
    "training_data = datasets.FashionMNIST(\n",
    "    root = \"data\",\n",
    "    train = True,\n",
    "    download = True,\n",
    "    transform = ToTensor(),\n",
    ")\n",
    "\n",
    "test_data = datasets.FashionMNIST(\n",
    "    root = \"data\",\n",
    "    train = False,\n",
    "    download = True,\n",
    "    transform = ToTensor(),\n",
    ")"
   ]
  },
  {
   "cell_type": "markdown",
   "id": "b0c6a642",
   "metadata": {},
   "source": [
    "- 다운받은 Dataset을 DataLoader의 인자로 넣을 것\n",
    "- DataLoader는 Dataset을 감싸 **automatic batching, sampling, shiffling, multiprocess data loading** 등을 도와줌\n",
    "- 여기선 batch_size 를 64로 정의함 : dataloader의 각 요소는 64개의 feature와 label를 반환"
   ]
  },
  {
   "cell_type": "code",
   "execution_count": 4,
   "id": "c4cbc03a",
   "metadata": {},
   "outputs": [
    {
     "name": "stdout",
     "output_type": "stream",
     "text": [
      "Shape of X [N, C, H, W]:  torch.Size([64, 1, 28, 28])\n",
      "Shape of y:  torch.int64\n"
     ]
    }
   ],
   "source": [
    "batch_size = 64\n",
    "\n",
    "train_dataloader = DataLoader(training_data, batch_size=batch_size)\n",
    "test_dataloader = DataLoader(test_data, batch_size=batch_size)\n",
    "\n",
    "for X, y in test_dataloader:\n",
    "    print(\"Shape of X [N, C, H, W]: \", X.shape)\n",
    "    print(\"Shape of y: \", y.dtype)\n",
    "    break"
   ]
  },
  {
   "cell_type": "markdown",
   "id": "08bf0081",
   "metadata": {},
   "source": [
    "---\n",
    "# 2. Creating Models\n",
    "- 파이토치에서 인공신경망을 정의하기 위해선 **nn.Module** 을 상속한 클래스를 만들어야 함\n",
    "- **init(생성자 메서드)** 에서 네트워크를 구성하는 layer들을 정의\n",
    "- **forward** 메서드에서 네트워크가 데이터를 어떻게 처리하는지 정의\n",
    "- 인공신경망의 연산을 가속하기 위해 네트워크를 **GPU** 에 옮겨볼 것"
   ]
  },
  {
   "cell_type": "code",
   "execution_count": 5,
   "id": "2de9ae96",
   "metadata": {},
   "outputs": [
    {
     "name": "stdout",
     "output_type": "stream",
     "text": [
      "Using cuda device\n"
     ]
    }
   ],
   "source": [
    "device = \"cuda\" if torch.cuda.is_available() else \"cpu\"\n",
    "print(\"Using {} device\".format(device))"
   ]
  },
  {
   "cell_type": "code",
   "execution_count": 6,
   "id": "c0986a6b",
   "metadata": {},
   "outputs": [
    {
     "name": "stdout",
     "output_type": "stream",
     "text": [
      "NeuralNetwork(\n",
      "  (flatten): Flatten(start_dim=1, end_dim=-1)\n",
      "  (linear_relu_stack): Sequential(\n",
      "    (0): Linear(in_features=784, out_features=512, bias=True)\n",
      "    (1): ReLU()\n",
      "    (2): Linear(in_features=512, out_features=512, bias=True)\n",
      "    (3): ReLU()\n",
      "    (4): Linear(in_features=512, out_features=10, bias=True)\n",
      "    (5): ReLU()\n",
      "  )\n",
      ")\n"
     ]
    }
   ],
   "source": [
    "class NeuralNetwork(nn.Module):\n",
    "    def __init__(self):\n",
    "        super(NeuralNetwork, self).__init__()\n",
    "        self.flatten = nn.Flatten()\n",
    "        self.linear_relu_stack = nn.Sequential(\n",
    "            nn.Linear(28*28, 512),\n",
    "            nn.ReLU(),\n",
    "            nn.Linear(512, 512),\n",
    "            nn.ReLU(),\n",
    "            nn.Linear(512, 10),\n",
    "            nn.ReLU(),\n",
    "        )\n",
    "    \n",
    "    def forward(self, x):\n",
    "        x = self.flatten(x)\n",
    "        logits = self.linear_relu_stack(x)\n",
    "        return logits\n",
    "    \n",
    "model = NeuralNetwork().to(device)\n",
    "print(model)"
   ]
  },
  {
   "cell_type": "markdown",
   "id": "7f69e038",
   "metadata": {},
   "source": [
    "---\n",
    "# 3. Optimizing the Model Parameters\n",
    "- 모델을 학습하기 위해선 **loss function 과 optimizer** 가 필요함"
   ]
  },
  {
   "cell_type": "code",
   "execution_count": 7,
   "id": "bcc84bef",
   "metadata": {},
   "outputs": [],
   "source": [
    "loss_fn = nn.CrossEntropyLoss()\n",
    "optimizer = torch.optim.SGD(model.parameters(), lr=1e-3)"
   ]
  },
  {
   "cell_type": "markdown",
   "id": "fb06d31d",
   "metadata": {},
   "source": [
    ">**학습 루프에서 일어나는 작업**\n",
    ">1. 모델이 학습 데이터셋에 대해 예측 (배치로 입력받음)\n",
    ">2. 예측한 결과와 정답값을 비교하여 loss를 계산\n",
    ">3. loss를 줄이는 방향으로 모델의 파라미터를 수정하기 위해 loss를 backpropagate"
   ]
  },
  {
   "cell_type": "code",
   "execution_count": 8,
   "id": "24eb0a44",
   "metadata": {},
   "outputs": [],
   "source": [
    "def train(dataloader, model, loss_fn, optimizer):\n",
    "    size = len(dataloader.dataset)\n",
    "    for batch, (X, y) in enumerate(dataloader):\n",
    "        X, y = X.to(device), y.to(device)\n",
    "        \n",
    "        pred = model(X)\n",
    "        loss = loss_fn(pred, y)\n",
    "        \n",
    "        optimizer.zero_grad()\n",
    "        loss.backward()\n",
    "        optimizer.step()\n",
    "        \n",
    "        if batch%100 == 0:\n",
    "            loss, current = loss.item(), batch*len(X)\n",
    "            print(f\"loss: {loss:>7f} [{current:>5d}/{size:>5d}]\")"
   ]
  },
  {
   "cell_type": "markdown",
   "id": "cc7698b8",
   "metadata": {},
   "source": [
    "- 학습이 잘 되고 있는지 검증하기 위해 테스트셋에 대한 성능도 확인해야 함"
   ]
  },
  {
   "cell_type": "code",
   "execution_count": 11,
   "id": "05b2d109",
   "metadata": {},
   "outputs": [],
   "source": [
    "def test(dataloader, model):\n",
    "    size = len(dataloader.dataset)\n",
    "    model.eval()\n",
    "    test_loss, correct = 0, 0\n",
    "    with torch.no_grad():\n",
    "        for X, y in dataloader:\n",
    "            X, y = X.to(device), y.to(device)\n",
    "            pred = model(X)\n",
    "            test_loss += loss_fn(pred, y).item()\n",
    "            correct += (pred.argmax(1) == y).type(torch.float).sum().item()\n",
    "    test_loss /= size\n",
    "    correct /= size\n",
    "    print(f\"Test Error: \\n Accuracy: {(100*correct):>0.1f}%, Avg loss: {test_loss:>8f} \\n\")"
   ]
  },
  {
   "cell_type": "markdown",
   "id": "5c25dfcc",
   "metadata": {},
   "source": [
    "- 학습은 학습 데이터셋 전체에 대한 몇 번의 반복으로 진행됨.\n",
    "- 각 반복을 **epoch** 이라고 함\n",
    "- 각 epoch 동안 모델은 더 나은 예측을 위해 파라미터를 학습함\n",
    "- 매 epoch마다 정확도는 올라가고, 로스는 내려가는 것이 이상적"
   ]
  },
  {
   "cell_type": "code",
   "execution_count": 12,
   "id": "9ceaf6b9",
   "metadata": {
    "scrolled": true
   },
   "outputs": [
    {
     "name": "stdout",
     "output_type": "stream",
     "text": [
      "Epoch 1\n",
      "-------------------------------\n",
      "loss: 2.296429 [    0/60000]\n",
      "loss: 2.291669 [ 6400/60000]\n",
      "loss: 2.279853 [12800/60000]\n",
      "loss: 2.286928 [19200/60000]\n",
      "loss: 2.262813 [25600/60000]\n",
      "loss: 2.235382 [32000/60000]\n",
      "loss: 2.256296 [38400/60000]\n",
      "loss: 2.220906 [44800/60000]\n",
      "loss: 2.221251 [51200/60000]\n",
      "loss: 2.216681 [57600/60000]\n",
      "Test Error: \n",
      " Accuracy: 46.2%, Avg loss: 0.034812 \n",
      "\n",
      "Epoch 2\n",
      "-------------------------------\n",
      "loss: 2.197034 [    0/60000]\n",
      "loss: 2.208733 [ 6400/60000]\n",
      "loss: 2.181816 [12800/60000]\n",
      "loss: 2.226074 [19200/60000]\n",
      "loss: 2.163205 [25600/60000]\n",
      "loss: 2.097574 [32000/60000]\n",
      "loss: 2.162460 [38400/60000]\n",
      "loss: 2.086795 [44800/60000]\n",
      "loss: 2.096765 [51200/60000]\n",
      "loss: 2.091247 [57600/60000]\n",
      "Test Error: \n",
      " Accuracy: 45.5%, Avg loss: 0.032961 \n",
      "\n",
      "Epoch 3\n",
      "-------------------------------\n",
      "loss: 2.059196 [    0/60000]\n",
      "loss: 2.081915 [ 6400/60000]\n",
      "loss: 2.030728 [12800/60000]\n",
      "loss: 2.132223 [19200/60000]\n",
      "loss: 1.996475 [25600/60000]\n",
      "loss: 1.890053 [32000/60000]\n",
      "loss: 2.007692 [38400/60000]\n",
      "loss: 1.883976 [44800/60000]\n",
      "loss: 1.918595 [51200/60000]\n",
      "loss: 1.905061 [57600/60000]\n",
      "Test Error: \n",
      " Accuracy: 45.5%, Avg loss: 0.030117 \n",
      "\n",
      "Epoch 4\n",
      "-------------------------------\n",
      "loss: 1.868972 [    0/60000]\n",
      "loss: 1.884611 [ 6400/60000]\n",
      "loss: 1.816158 [12800/60000]\n",
      "loss: 1.961492 [19200/60000]\n",
      "loss: 1.769959 [25600/60000]\n",
      "loss: 1.657402 [32000/60000]\n",
      "loss: 1.799484 [38400/60000]\n",
      "loss: 1.662529 [44800/60000]\n",
      "loss: 1.717841 [51200/60000]\n",
      "loss: 1.700997 [57600/60000]\n",
      "Test Error: \n",
      " Accuracy: 50.3%, Avg loss: 0.026976 \n",
      "\n",
      "Epoch 5\n",
      "-------------------------------\n",
      "loss: 1.675431 [    0/60000]\n",
      "loss: 1.677385 [ 6400/60000]\n",
      "loss: 1.609371 [12800/60000]\n",
      "loss: 1.788429 [19200/60000]\n",
      "loss: 1.578337 [25600/60000]\n",
      "loss: 1.471671 [32000/60000]\n",
      "loss: 1.615963 [38400/60000]\n",
      "loss: 1.492444 [44800/60000]\n",
      "loss: 1.550796 [51200/60000]\n",
      "loss: 1.539497 [57600/60000]\n",
      "Test Error: \n",
      " Accuracy: 54.4%, Avg loss: 0.024516 \n",
      "\n",
      "Done!\n"
     ]
    }
   ],
   "source": [
    "epochs = 5\n",
    "for t in range(epochs):\n",
    "    print(f\"Epoch {t+1}\\n-------------------------------\")\n",
    "    train(train_dataloader, model, loss_fn, optimizer)\n",
    "    test(test_dataloader, model)\n",
    "print(\"Done!\")"
   ]
  },
  {
   "cell_type": "markdown",
   "id": "6cbab5f9",
   "metadata": {},
   "source": [
    "---\n",
    "# 4. Saving Models\n",
    "- 모델을 저장하기 위한 방법으로 주로 모델을 **state dictionary로 serialize 함**"
   ]
  },
  {
   "cell_type": "code",
   "execution_count": 13,
   "id": "4e1403b8",
   "metadata": {},
   "outputs": [
    {
     "name": "stdout",
     "output_type": "stream",
     "text": [
      "Saved PyTorch Model State to model.pth\n"
     ]
    }
   ],
   "source": [
    "torch.save(model.state_dict(), \"model.pth\")\n",
    "print(\"Saved PyTorch Model State to model.pth\")"
   ]
  },
  {
   "cell_type": "markdown",
   "id": "f1dc4fb9",
   "metadata": {},
   "source": [
    "---\n",
    "# 5. Loading Models\n",
    ">**모델을 로드하는 방법**\n",
    ">1. 초기 모델 구조를 생성\n",
    ">2. 저장한 파라미터를 로드"
   ]
  },
  {
   "cell_type": "code",
   "execution_count": 15,
   "id": "d058e984",
   "metadata": {},
   "outputs": [
    {
     "data": {
      "text/plain": [
       "<All keys matched successfully>"
      ]
     },
     "execution_count": 15,
     "metadata": {},
     "output_type": "execute_result"
    }
   ],
   "source": [
    "model = NeuralNetwork()\n",
    "model.load_state_dict(torch.load(\"model.pth\"))"
   ]
  },
  {
   "cell_type": "markdown",
   "id": "ce95bff1",
   "metadata": {},
   "source": [
    "- 로드한 모델로 예측하기"
   ]
  },
  {
   "cell_type": "code",
   "execution_count": 21,
   "id": "07f2dca6",
   "metadata": {},
   "outputs": [
    {
     "name": "stdout",
     "output_type": "stream",
     "text": [
      "Predicted: 'Ankle boot', Actual: 'Ankle boot'\n"
     ]
    }
   ],
   "source": [
    "classes = [\n",
    "    \"T-shirt/top\",\n",
    "    \"Trouser\",\n",
    "    \"Pullover\",\n",
    "    \"Dress\",\n",
    "    \"Coat\",\n",
    "    \"Sandal\",\n",
    "    \"Shirt\",\n",
    "    \"Sneaker\",\n",
    "    \"Bag\",\n",
    "    \"Ankle boot\"\n",
    "]\n",
    "\n",
    "model.eval()\n",
    "x, y = test_data[0][0], test_data[0][1]\n",
    "with torch.no_grad():\n",
    "    pred = model(x)\n",
    "    predicted, actual = classes[pred[0].argmax(0)], classes[y]\n",
    "    print(f\"Predicted: '{predicted}', Actual: '{actual}'\")"
   ]
  },
  {
   "cell_type": "code",
   "execution_count": null,
   "id": "02c7aa18",
   "metadata": {},
   "outputs": [],
   "source": []
  }
 ],
 "metadata": {
  "kernelspec": {
   "display_name": "Python 3",
   "language": "python",
   "name": "python3"
  },
  "language_info": {
   "codemirror_mode": {
    "name": "ipython",
    "version": 3
   },
   "file_extension": ".py",
   "mimetype": "text/x-python",
   "name": "python",
   "nbconvert_exporter": "python",
   "pygments_lexer": "ipython3",
   "version": "3.8.8"
  }
 },
 "nbformat": 4,
 "nbformat_minor": 5
}
