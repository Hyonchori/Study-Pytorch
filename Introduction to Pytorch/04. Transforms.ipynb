{
 "cells": [
  {
   "cell_type": "markdown",
   "id": "20d0d69f",
   "metadata": {},
   "source": [
    "# TRANSFORMS\n",
    "- 데이터는 항상 머신 러닝 알고리즘이 필요한 형태 그대로 존재하지 않음\n",
    "- 파이토치는 **transforms** 를 이용해 데이터를 학습에 알맞게 가공함"
   ]
  },
  {
   "cell_type": "markdown",
   "id": "4ee8f680",
   "metadata": {},
   "source": [
    "- 모든 TorchVision 의 데이터셋은 두 개의 파라미터를 가짐\n",
    "1. ```transform``` : feature 를 가공\n",
    "2. ```target_transform``` : label 을 가공\n",
    "- **torchvision.transforms** 모듈은 널리 사용되는 변환 방법을 제공해줌"
   ]
  },
  {
   "cell_type": "markdown",
   "id": "84ec31c9",
   "metadata": {},
   "source": [
    "- 여기서 사용할 **FashionMNIST** 데이터셋은 **PIL Image** 형식임.\n",
    "- 따라서 학습을 위해 feature를 **normalized tensor** 로 변환해줘야 함\n",
    "- 그리고 라벨은 **one-hot encodede tensor** 로 변환해줘야 함\n",
    "> 이를 위해 ```ToTensor``` 와 ```Lambda``` 를 사용하여 transformation을 구현"
   ]
  },
  {
   "cell_type": "code",
   "execution_count": 3,
   "id": "fcf04c32",
   "metadata": {},
   "outputs": [],
   "source": [
    "from torchvision import datasets\n",
    "from torchvision.transforms import ToTensor, Lambda\n",
    "\n",
    "ds = datasets.FashionMNIST(\n",
    "    root=\"data\",\n",
    "    train=True,\n",
    "    download=True,\n",
    "    transform=ToTensor(),\n",
    "    target_transform=Lambda(lambda y: torch.zeros(10, dtype=torch.float).scatter_(\n",
    "        0, torch.tensor(y), value=1))\n",
    ")"
   ]
  },
  {
   "cell_type": "markdown",
   "id": "f67970eb",
   "metadata": {},
   "source": [
    "---\n",
    "## ToTensor()\n",
    ">- PIL Image 나 NumPy의 ```ndarray``` 를 ```FlaotTensor``` 로 변환해줌\n",
    ">- 그리고 이미지의 각 픽셀의 값을 [0, 1]사이로 정규화함"
   ]
  },
  {
   "cell_type": "markdown",
   "id": "5e53ee17",
   "metadata": {},
   "source": [
    "---\n",
    "## Lambda Transforms\n",
    ">- 사용자 정의 transformation 을 적용해줌\n",
    ">- 여기선 정수를 one-hot encodede tensor 로 변환하는 식을 작성함\n",
    ">- 처음에 크기 10의 0으로 이루어진 텐서를 만든 뒤 **scatter_** 함수를 이용하여 라벨에 해당하는 인덱스의 값을 1로 바꿈"
   ]
  },
  {
   "cell_type": "code",
   "execution_count": null,
   "id": "6be891a4",
   "metadata": {},
   "outputs": [],
   "source": []
  }
 ],
 "metadata": {
  "kernelspec": {
   "display_name": "Python 3",
   "language": "python",
   "name": "python3"
  },
  "language_info": {
   "codemirror_mode": {
    "name": "ipython",
    "version": 3
   },
   "file_extension": ".py",
   "mimetype": "text/x-python",
   "name": "python",
   "nbconvert_exporter": "python",
   "pygments_lexer": "ipython3",
   "version": "3.8.8"
  }
 },
 "nbformat": 4,
 "nbformat_minor": 5
}
