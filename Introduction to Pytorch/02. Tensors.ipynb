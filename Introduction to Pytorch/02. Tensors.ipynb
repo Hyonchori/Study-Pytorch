{
 "cells": [
  {
   "cell_type": "markdown",
   "id": "3771d447",
   "metadata": {},
   "source": [
    "# TENSORS\n",
    "- 텐서란 array 나 matrics 와 흡사한 데이터 구조임\n",
    "- 파이토치에선, 모델의 입력과 출력 또는 모델의 파라미터를 인코딩하기 위해 사용"
   ]
  },
  {
   "cell_type": "markdown",
   "id": "a63e4a67",
   "metadata": {},
   "source": [
    "- 텐서는 **NumPy의 array**와 흡사함\n",
    "- 하지만 텐서는 **GPU**와 같은 연산 가속기에서 동작할 수 있는 것이 차이점\n",
    "- 텐서는 또한 **automatic differentiation** 을 통해 최적화됨"
   ]
  },
  {
   "cell_type": "code",
   "execution_count": 1,
   "id": "1a54e859",
   "metadata": {},
   "outputs": [],
   "source": [
    "import torch\n",
    "import numpy as np"
   ]
  },
  {
   "cell_type": "markdown",
   "id": "8199a23d",
   "metadata": {},
   "source": [
    "---\n",
    "# 1. Initializing a Tensor\n",
    "- 텐서는 다양한 방법으로 초기화할 수 있음"
   ]
  },
  {
   "cell_type": "markdown",
   "id": "0e97bdd6",
   "metadata": {},
   "source": [
    "## 1.1 Directly from data\n",
    "- 이미 존재하는 데이터로부터 바로 텐서를 생성할 수 있음\n",
    "- 데이터 타입은 자동으로 추정됨"
   ]
  },
  {
   "cell_type": "code",
   "execution_count": 4,
   "id": "da8a4a53",
   "metadata": {},
   "outputs": [
    {
     "name": "stdout",
     "output_type": "stream",
     "text": [
      "tensor([[1, 2],\n",
      "        [3, 4]]) <class 'torch.Tensor'> torch.LongTensor torch.Size([2, 2]) torch.int64\n"
     ]
    }
   ],
   "source": [
    "data = [[1, 2], [3, 4]]\n",
    "x_data = torch.tensor(data)\n",
    "print(x_data, type(x_data), x_data.type(), x_data.shape, x_data.dtype)"
   ]
  },
  {
   "cell_type": "markdown",
   "id": "25522195",
   "metadata": {},
   "source": [
    "## 1.2 From a NumPy array\n",
    "- **NumPy의 array** 로부터 생성할 수 있음"
   ]
  },
  {
   "cell_type": "code",
   "execution_count": 5,
   "id": "4a5f89ac",
   "metadata": {},
   "outputs": [
    {
     "name": "stdout",
     "output_type": "stream",
     "text": [
      "tensor([[1, 2],\n",
      "        [3, 4]], dtype=torch.int32) <class 'torch.Tensor'> torch.IntTensor torch.Size([2, 2]) torch.int32\n"
     ]
    }
   ],
   "source": [
    "np_array = np.array(data)\n",
    "x_np = torch.from_numpy(np_array)\n",
    "print(x_np, type(x_np), x_np.type(), x_np.shape, x_np.dtype)"
   ]
  },
  {
   "cell_type": "markdown",
   "id": "1863be87",
   "metadata": {},
   "source": [
    "## 1.3 From another tensor\n",
    "- 이미 존재하는 텐서의 특성(shape, datatype)을 유지하면서 새로운 텐서를 만들 수 있음"
   ]
  },
  {
   "cell_type": "code",
   "execution_count": 6,
   "id": "07495d58",
   "metadata": {},
   "outputs": [
    {
     "name": "stdout",
     "output_type": "stream",
     "text": [
      "Ones Tensor: \n",
      " tensor([[1, 1],\n",
      "        [1, 1]]) \n",
      "\n",
      "Random Tensor: \n",
      " tensor([[0.6443, 0.5095],\n",
      "        [0.1158, 0.4513]])\n"
     ]
    }
   ],
   "source": [
    "x_ones = torch.ones_like(x_data)\n",
    "print(f\"Ones Tensor: \\n {x_ones} \\n\")\n",
    "\n",
    "x_rand = torch.rand_like(x_data, dtype=torch.float)\n",
    "print(f\"Random Tensor: \\n {x_rand}\")"
   ]
  },
  {
   "cell_type": "markdown",
   "id": "85b4aa28",
   "metadata": {},
   "source": [
    "## 1.4 With random or constant values\n",
    "- ```shape``` 는 텐서의 차원에 대한 튜플임\n",
    "- 이는 출력 텐서의 차원을 결정함"
   ]
  },
  {
   "cell_type": "code",
   "execution_count": 7,
   "id": "71c35bdd",
   "metadata": {},
   "outputs": [
    {
     "name": "stdout",
     "output_type": "stream",
     "text": [
      "Random Tensor: \n",
      " tensor([[0.4577, 0.4146, 0.2314],\n",
      "        [0.7161, 0.0017, 0.5212]]) \n",
      "\n",
      "Ones Tensor: \n",
      " tensor([[1., 1., 1.],\n",
      "        [1., 1., 1.]]) \n",
      "\n",
      "Zeros Tensor: \n",
      " tensor([[0., 0., 0.],\n",
      "        [0., 0., 0.]]) \n",
      "\n"
     ]
    }
   ],
   "source": [
    "shape = (2, 3, )\n",
    "rand_tensor = torch.rand(shape)\n",
    "ones_tensor = torch.ones(shape)\n",
    "zeros_tensor = torch.zeros(shape)\n",
    "\n",
    "print(f\"Random Tensor: \\n {rand_tensor} \\n\")\n",
    "print(f\"Ones Tensor: \\n {ones_tensor} \\n\")\n",
    "print(f\"Zeros Tensor: \\n {zeros_tensor} \\n\")"
   ]
  },
  {
   "cell_type": "markdown",
   "id": "6e46973d",
   "metadata": {},
   "source": [
    "---\n",
    "# 2. Attributes of a Tensor\n",
    "- 텐서의 **attributes**는 그 텐서의 **shape, dtype, 저장된 device** 등의 정보를 알려줌"
   ]
  },
  {
   "cell_type": "code",
   "execution_count": 8,
   "id": "c62b6b70",
   "metadata": {},
   "outputs": [
    {
     "name": "stdout",
     "output_type": "stream",
     "text": [
      "Shape of tensor: torch.Size([3, 4])\n",
      "Datatype of tensor: torch.float32\n",
      "Device of tensor: cpu\n"
     ]
    }
   ],
   "source": [
    "tensor = torch.rand(3, 4)\n",
    "print(f\"Shape of tensor: {tensor.shape}\")\n",
    "print(f\"Datatype of tensor: {tensor.dtype}\")\n",
    "print(f\"Device of tensor: {tensor.device}\")"
   ]
  },
  {
   "cell_type": "markdown",
   "id": "5ba0e908",
   "metadata": {},
   "source": [
    "---\n",
    "# 3. Operations on Tensors\n",
    "- arithmetic, linear algebra, matrix manipulation(전치, 인덱싱, 슬라이싱), sampling 등의 100개가 넘는 텐서 연산에 대한 정보를 홈페이지에서 확인 가능\n",
    "- 각 연산은 GPU에서도 동작할 수 있음 (가끔은 CPU에서 더 빠르기도 함)"
   ]
  },
  {
   "cell_type": "markdown",
   "id": "d26a2077",
   "metadata": {},
   "source": [
    "- 기본적으로 텐서는 CPU 상에 생성됨\n",
    "- 그래서 텐서를 명시적으로 GPU 로 이동해줘야 함. 이때 ```.to``` 메서드를 이용\n",
    "- 이때 매우 큰 텐서를 옮기는 작업은 시간과 메모리가 많이 필요하다는 것을 명심"
   ]
  },
  {
   "cell_type": "code",
   "execution_count": 9,
   "id": "7381ba7d",
   "metadata": {},
   "outputs": [],
   "source": [
    "if torch.cuda.is_available():\n",
    "    tensor = tensor.to(\"cuda\")"
   ]
  },
  {
   "cell_type": "markdown",
   "id": "4999dfab",
   "metadata": {},
   "source": [
    "## 3.1 Standard numpy-like indexing and slicing"
   ]
  },
  {
   "cell_type": "code",
   "execution_count": 10,
   "id": "116b643e",
   "metadata": {},
   "outputs": [
    {
     "name": "stdout",
     "output_type": "stream",
     "text": [
      "First row:  tensor([1., 1., 1., 1.])\n",
      "First column:  tensor([1., 1., 1., 1.])\n",
      "Last column:  tensor([1., 1., 1., 1.])\n",
      "tensor([[1., 0., 1., 1.],\n",
      "        [1., 0., 1., 1.],\n",
      "        [1., 0., 1., 1.],\n",
      "        [1., 0., 1., 1.]])\n"
     ]
    }
   ],
   "source": [
    "tensor = torch.ones(4, 4)\n",
    "print(\"First row: \", tensor[0])\n",
    "print('First column: ', tensor[:, 0])\n",
    "print('Last column: ', tensor[..., -1])\n",
    "\n",
    "tensor[:, 1] = 0\n",
    "print(tensor)"
   ]
  },
  {
   "cell_type": "markdown",
   "id": "b43e8cb5",
   "metadata": {},
   "source": [
    "## 3.2 Joining tensors\n",
    "- ```torch.cat``` 을 이용해 주어진 텐서를 특정 차원에 따라 concatenate 할 수 있음\n",
    "- ```torch.stack``` 도 참고할 것. "
   ]
  },
  {
   "cell_type": "code",
   "execution_count": 11,
   "id": "38048b5c",
   "metadata": {},
   "outputs": [
    {
     "name": "stdout",
     "output_type": "stream",
     "text": [
      "tensor([[1., 0., 1., 1., 1., 0., 1., 1., 1., 0., 1., 1.],\n",
      "        [1., 0., 1., 1., 1., 0., 1., 1., 1., 0., 1., 1.],\n",
      "        [1., 0., 1., 1., 1., 0., 1., 1., 1., 0., 1., 1.],\n",
      "        [1., 0., 1., 1., 1., 0., 1., 1., 1., 0., 1., 1.]])\n"
     ]
    }
   ],
   "source": [
    "t1 = torch.cat([tensor, tensor, tensor], dim=1)\n",
    "print(t1)"
   ]
  },
  {
   "cell_type": "markdown",
   "id": "cb03f5b7",
   "metadata": {},
   "source": [
    "## 3.3 Arithmetic operations"
   ]
  },
  {
   "cell_type": "code",
   "execution_count": 15,
   "id": "45e0014f",
   "metadata": {},
   "outputs": [
    {
     "name": "stdout",
     "output_type": "stream",
     "text": [
      "tensor([[3., 3., 3., 3.],\n",
      "        [3., 3., 3., 3.],\n",
      "        [3., 3., 3., 3.],\n",
      "        [3., 3., 3., 3.]])\n",
      "tensor([[3., 3., 3., 3.],\n",
      "        [3., 3., 3., 3.],\n",
      "        [3., 3., 3., 3.],\n",
      "        [3., 3., 3., 3.]])\n",
      "tensor([[3., 3., 3., 3.],\n",
      "        [3., 3., 3., 3.],\n",
      "        [3., 3., 3., 3.],\n",
      "        [3., 3., 3., 3.]])\n"
     ]
    }
   ],
   "source": [
    "# Matrix multiplication between two tensors\n",
    "\n",
    "y1 = tensor @ tensor.T\n",
    "y2 = tensor.matmul(tensor.T)\n",
    "\n",
    "y3 = torch.rand_like(tensor)\n",
    "torch.matmul(tensor, tensor.T, out=y3)\n",
    "\n",
    "print(y1)\n",
    "print(y2)\n",
    "print(y3)"
   ]
  },
  {
   "cell_type": "code",
   "execution_count": 16,
   "id": "44486593",
   "metadata": {},
   "outputs": [
    {
     "name": "stdout",
     "output_type": "stream",
     "text": [
      "tensor([[1., 0., 1., 1.],\n",
      "        [1., 0., 1., 1.],\n",
      "        [1., 0., 1., 1.],\n",
      "        [1., 0., 1., 1.]])\n",
      "tensor([[1., 0., 1., 1.],\n",
      "        [1., 0., 1., 1.],\n",
      "        [1., 0., 1., 1.],\n",
      "        [1., 0., 1., 1.]])\n",
      "tensor([[1., 0., 1., 1.],\n",
      "        [1., 0., 1., 1.],\n",
      "        [1., 0., 1., 1.],\n",
      "        [1., 0., 1., 1.]])\n"
     ]
    }
   ],
   "source": [
    "# Element-wise product\n",
    "\n",
    "z1 = tensor * tensor\n",
    "z2 = tensor.mul(tensor)\n",
    "\n",
    "z3 = torch.rand_like(tensor)\n",
    "torch.mul(tensor, tensor, out=z3)\n",
    "\n",
    "print(z1)\n",
    "print(z2)\n",
    "print(z3)"
   ]
  },
  {
   "cell_type": "markdown",
   "id": "7dc59c43",
   "metadata": {},
   "source": [
    "## 3.4 Single-element tensors\n",
    "- 텐서 내의 모든 값을 하나의 값으로 aggregating 하면서 1차원의 텐서를 생성할 수 있음\n",
    "- 이때 ```item()``` 함수를 이용하여 그 값을 파이썬의 숫자로 변환할 수 있음"
   ]
  },
  {
   "cell_type": "code",
   "execution_count": 17,
   "id": "26e8ea51",
   "metadata": {},
   "outputs": [
    {
     "name": "stdout",
     "output_type": "stream",
     "text": [
      "tensor(12.) 12.0 <class 'float'>\n"
     ]
    }
   ],
   "source": [
    "agg = tensor.sum()\n",
    "agg_item = agg.item()\n",
    "print(agg, agg_item, type(agg_item))"
   ]
  },
  {
   "cell_type": "markdown",
   "id": "92c42ea1",
   "metadata": {},
   "source": [
    "## 3.5 In-place operations\n",
    "- 이름 끝에 ```_``` 가 붙으면 In-place 연산임\n",
    "- 이 연산은 해당 텐서 자체를 바꿈"
   ]
  },
  {
   "cell_type": "code",
   "execution_count": 18,
   "id": "73df0dee",
   "metadata": {},
   "outputs": [
    {
     "name": "stdout",
     "output_type": "stream",
     "text": [
      "tensor([[1., 0., 1., 1.],\n",
      "        [1., 0., 1., 1.],\n",
      "        [1., 0., 1., 1.],\n",
      "        [1., 0., 1., 1.]]) \n",
      "\n",
      "tensor([[6., 5., 6., 6.],\n",
      "        [6., 5., 6., 6.],\n",
      "        [6., 5., 6., 6.],\n",
      "        [6., 5., 6., 6.]])\n"
     ]
    }
   ],
   "source": [
    "print(tensor, \"\\n\")\n",
    "tensor.add_(5)\n",
    "print(tensor)"
   ]
  },
  {
   "cell_type": "markdown",
   "id": "c80a70a7",
   "metadata": {},
   "source": [
    "---\n",
    "# 4. Bridge with NumPy\n",
    "- CPU 상의 텐서와 NumPy의 array는 메모리 위치를 공유할 수 있음\n",
    "- 따라서 그 중 하나를 수정하면 다른 하나도 수정됨"
   ]
  },
  {
   "cell_type": "markdown",
   "id": "7c91862b",
   "metadata": {},
   "source": [
    "## 4.1 Tensor to NumPy array"
   ]
  },
  {
   "cell_type": "code",
   "execution_count": 19,
   "id": "9d5acf54",
   "metadata": {},
   "outputs": [
    {
     "name": "stdout",
     "output_type": "stream",
     "text": [
      "t: tensor([1., 1., 1., 1., 1.])\n",
      "n: [1. 1. 1. 1. 1.]\n"
     ]
    }
   ],
   "source": [
    "t = torch.ones(5)\n",
    "print(f\"t: {t}\")\n",
    "\n",
    "n = t.numpy()\n",
    "print(f\"n: {n}\")"
   ]
  },
  {
   "cell_type": "markdown",
   "id": "4b31e26d",
   "metadata": {},
   "source": [
    "- 텐서를 수정하면 NumPy array 에도 반영됨"
   ]
  },
  {
   "cell_type": "code",
   "execution_count": 20,
   "id": "3ce47d4e",
   "metadata": {},
   "outputs": [
    {
     "name": "stdout",
     "output_type": "stream",
     "text": [
      "t: tensor([2., 2., 2., 2., 2.])\n",
      "n: [2. 2. 2. 2. 2.]\n"
     ]
    }
   ],
   "source": [
    "t.add_(1)\n",
    "print(f\"t: {t}\")\n",
    "print(f\"n: {n}\")"
   ]
  },
  {
   "cell_type": "markdown",
   "id": "9d7ba57f",
   "metadata": {},
   "source": [
    "## 4.2 NumPy array to Tensor"
   ]
  },
  {
   "cell_type": "code",
   "execution_count": 21,
   "id": "1c1bb5af",
   "metadata": {},
   "outputs": [
    {
     "name": "stdout",
     "output_type": "stream",
     "text": [
      "t: tensor([1., 1., 1., 1., 1.], dtype=torch.float64)\n",
      "n: [1. 1. 1. 1. 1.]\n"
     ]
    }
   ],
   "source": [
    "n = np.ones(5)\n",
    "t = torch.from_numpy(n)\n",
    "print(f\"t: {t}\")\n",
    "print(f\"n: {n}\")"
   ]
  },
  {
   "cell_type": "code",
   "execution_count": 22,
   "id": "4f09339e",
   "metadata": {},
   "outputs": [
    {
     "name": "stdout",
     "output_type": "stream",
     "text": [
      "t: tensor([2., 2., 2., 2., 2.], dtype=torch.float64)\n",
      "n: [2. 2. 2. 2. 2.]\n"
     ]
    }
   ],
   "source": [
    "np.add(n, 1, out=n)\n",
    "print(f\"t: {t}\")\n",
    "print(f\"n: {n}\")"
   ]
  },
  {
   "cell_type": "code",
   "execution_count": null,
   "id": "4aaccf19",
   "metadata": {},
   "outputs": [],
   "source": []
  }
 ],
 "metadata": {
  "kernelspec": {
   "display_name": "Python 3",
   "language": "python",
   "name": "python3"
  },
  "language_info": {
   "codemirror_mode": {
    "name": "ipython",
    "version": 3
   },
   "file_extension": ".py",
   "mimetype": "text/x-python",
   "name": "python",
   "nbconvert_exporter": "python",
   "pygments_lexer": "ipython3",
   "version": "3.8.8"
  }
 },
 "nbformat": 4,
 "nbformat_minor": 5
}
